{
 "cells": [
  {
   "cell_type": "markdown",
   "metadata": {},
   "source": [
    "## Bài 1:\n"
   ]
  },
  {
   "cell_type": "code",
   "execution_count": 2,
   "metadata": {},
   "outputs": [
    {
     "name": "stdout",
     "output_type": "stream",
     "text": [
      "Name: Samsung, Value: 800, Rate: 4\n",
      "Name: Sony, Value: 700, Rate: 3\n",
      "Name: LG, Value: 600, Rate: 1\n"
     ]
    }
   ],
   "source": [
    "class Phone:\n",
    "    def __init__(self, name, value, rate):\n",
    "        self.name = name\n",
    "        self.value = value\n",
    "        self.rate = rate\n",
    "\n",
    "class Node:\n",
    "    def __init__(self, phone):\n",
    "        self.phone = phone\n",
    "        self.next = None\n",
    "\n",
    "            \n",
    "            \n",
    "class PhoneList:\n",
    "    def __init__(self):\n",
    "        self.head = None\n",
    "\n",
    "    def f1(self, xName, xValue, xRate):\n",
    "        if xName[0] != 'A':\n",
    "            new_node = Node(Phone(xName, xValue, xRate))\n",
    "            new_node.next = self.head\n",
    "            self.head = new_node\n",
    "\n",
    "    def f2(self,x, y):\n",
    "        new_node_x = Node(x)\n",
    "        new_node_y = Node(y)\n",
    "        current = self.head\n",
    "        if current is None:\n",
    "            self.head = new_node_x\n",
    "            new_node_x.next = new_node_y\n",
    "        else:\n",
    "            new_node_x.next = current.next\n",
    "            current.next = new_node_x\n",
    "            while current.next:\n",
    "                current = current.next\n",
    "            current.next = new_node_y\n",
    "            \n",
    "\n",
    "    def f3(self):\n",
    "        if self.head is None or self.head.next is None or self.head.next.next is None:\n",
    "            return\n",
    "        self.head.next = self.head.next.next\n",
    "\n",
    "    def f4(self):\n",
    "        current = self.head\n",
    "        if current is None:\n",
    "            return\n",
    "        phone_list = []\n",
    "        while current:\n",
    "            phone_list.append(current.phone)\n",
    "            current = current.next\n",
    "        phone_list.sort(key=lambda x: x.rate, reverse=True)\n",
    "        self.head = Node(phone_list[0])\n",
    "        current = self.head\n",
    "        for phone in phone_list[1:]:\n",
    "            current.next = Node(phone)\n",
    "            current = current.next\n",
    "\n",
    "    def print_list(self):\n",
    "        current = self.head\n",
    "        while current:\n",
    "            print(f\"Name: {current.phone.name}, Value: {current.phone.value}, Rate: {current.phone.rate}\")\n",
    "            current = current.next\n",
    "\n",
    "def main():\n",
    "    phone_list = PhoneList()\n",
    "    phone_list.f1('Apple', 1000, 5)\n",
    "    phone_list.f1('Samsung', 800, 4)\n",
    "    phone_list.f1('Sony', 700, 3)\n",
    "\n",
    "    x = Phone('Nokia', 500, 2)\n",
    "    y = Phone('LG', 600, 1)\n",
    "    phone_list.f2(x, y)\n",
    "\n",
    "    phone_list.f3()\n",
    "\n",
    "    phone_list.f4()\n",
    "\n",
    "    phone_list.print_list()\n",
    "\n",
    "if __name__ == \"__main__\":\n",
    "    main()\n",
    "\n"
   ]
  },
  {
   "cell_type": "code",
   "execution_count": null,
   "metadata": {},
   "outputs": [],
   "source": []
  },
  {
   "cell_type": "markdown",
   "metadata": {},
   "source": [
    "## Bài 2:"
   ]
  },
  {
   "cell_type": "code",
   "execution_count": 22,
   "metadata": {},
   "outputs": [
    {
     "name": "stdout",
     "output_type": "stream",
     "text": [
      "Giai thừa của 5 là 120\n"
     ]
    }
   ],
   "source": [
    "def factorial(n):\n",
    "    if n == 0 or n == 1:\n",
    "        return 1\n",
    "    else:\n",
    "        return n * factorial(n - 1)\n",
    "\n",
    "while True:\n",
    "    try:\n",
    "        num = int(input(\"Nhập một số nguyên n>=2: \"))\n",
    "        if num < 2:\n",
    "            raise ValueError(\"Số nhập vào phải lớn hơn hoặc bằng 2\")\n",
    "        print(\"Giai thừa của\", num, \"là\", factorial(num))\n",
    "        break\n",
    "    except ValueError as e:\n",
    "        print(e)\n"
   ]
  },
  {
   "cell_type": "markdown",
   "metadata": {},
   "source": [
    "## Bài 3:"
   ]
  },
  {
   "cell_type": "code",
   "execution_count": 25,
   "metadata": {},
   "outputs": [
    {
     "name": "stdout",
     "output_type": "stream",
     "text": [
      "(3, 7)\n"
     ]
    }
   ],
   "source": [
    "def find(L, total):\n",
    "    S = set()\n",
    "    for i in range(len(L)):\n",
    "        val = total - L[i]\n",
    "        if val in S:\n",
    "            return (L[i], val)\n",
    "        S.add(L[i])\n",
    "    return None\n",
    "\n",
    "L = [2, 5 ,7 ,6, 3]\n",
    "total = 10\n",
    "if find(L,total) is not None:\n",
    "    print(find(L,total))\n",
    "else:\n",
    "    print(\"Không tìm thấy cặp số nào có tổng là\", total)\n",
    "    "
   ]
  },
  {
   "cell_type": "code",
   "execution_count": 1,
   "metadata": {},
   "outputs": [
    {
     "name": "stdout",
     "output_type": "stream",
     "text": [
      "(2, 8)\n"
     ]
    }
   ],
   "source": [
    "def find(L, total):\n",
    "    S = set()\n",
    "    for i in range(len(L)):\n",
    "        val = total -L[i]\n",
    "        if val in S:\n",
    "            return (L[i], val)\n",
    "        S.add(L[i])\n",
    "    return None\n",
    "\n",
    "\n",
    "L = [8,7,2,5,3,1]\n",
    "total = 10\n",
    "if find(L, total) is not None:\n",
    "    print(find(L,total))\n",
    "else:\n",
    "    print(\"Khong tim thay cap so nao co tong la: \", total)"
   ]
  },
  {
   "cell_type": "code",
   "execution_count": null,
   "metadata": {},
   "outputs": [],
   "source": []
  }
 ],
 "metadata": {
  "kernelspec": {
   "display_name": "Python 3 (ipykernel)",
   "language": "python",
   "name": "python3"
  },
  "language_info": {
   "codemirror_mode": {
    "name": "ipython",
    "version": 3
   },
   "file_extension": ".py",
   "mimetype": "text/x-python",
   "name": "python",
   "nbconvert_exporter": "python",
   "pygments_lexer": "ipython3",
   "version": "3.9.13"
  }
 },
 "nbformat": 4,
 "nbformat_minor": 2
}
