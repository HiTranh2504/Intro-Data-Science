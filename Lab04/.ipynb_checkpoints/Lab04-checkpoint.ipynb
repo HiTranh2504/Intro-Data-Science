{
 "cells": [
  {
   "cell_type": "markdown",
   "id": "1fbb1d06",
   "metadata": {},
   "source": [
    "### Bài 1:\n",
    "Viết chương trình Python để xử lý ngoại lệ ZeroDivisionError khi chia một \n",
    "số cho 0."
   ]
  },
  {
   "cell_type": "code",
   "execution_count": 1,
   "id": "3e389bde",
   "metadata": {},
   "outputs": [
    {
     "name": "stdout",
     "output_type": "stream",
     "text": [
      "Error: Division by zero is not allowed.\n"
     ]
    }
   ],
   "source": [
    "def divide_numbers(a, b):\n",
    "    try:\n",
    "        result = a / b\n",
    "        print(\"Result of division:\", result)\n",
    "    except ZeroDivisionError:\n",
    "        print(\"Error: Division by zero is not allowed.\")\n",
    "\n",
    "# Thử chia một số cho 0\n",
    "divide_numbers(10, 0)\n"
   ]
  },
  {
   "cell_type": "markdown",
   "id": "0ea87d2f",
   "metadata": {},
   "source": [
    "## Bài 2:\n",
    "Viết chương trình Python nhắc người dùng nhập số nguyên và đưa ra ngoại \n",
    "lệ ValueError nếu đầu vào không phải là số nguyên hợp lệ."
   ]
  },
  {
   "cell_type": "code",
   "execution_count": null,
   "id": "8a3d5ac7",
   "metadata": {},
   "outputs": [
    {
     "name": "stdout",
     "output_type": "stream",
     "text": [
      "Nhập một số nguyên: 2.3\n",
      "Lỗi: Đầu vào không phải là số nguyên hợp lệ. Vui lòng thử lại.\n"
     ]
    }
   ],
   "source": [
    "def get_valid_integer():\n",
    "    while True:\n",
    "        try:\n",
    "            user_input = input(\"Nhập một số nguyên: \")\n",
    "            integer_value = int(user_input)\n",
    "            print(\"Số nguyên bạn đã nhập là:\", integer_value)\n",
    "            break  # Thoát khỏi vòng lặp nếu nhập đúng\n",
    "        except ValueError:\n",
    "            print(\"Lỗi: Đầu vào không phải là số nguyên hợp lệ. Vui lòng thử lại.\")\n",
    "\n",
    "# Gọi hàm để nhận số nguyên từ người dùng\n",
    "get_valid_integer()\n"
   ]
  },
  {
   "cell_type": "markdown",
   "id": "c8eb377b",
   "metadata": {},
   "source": [
    "## Bài 3. \n",
    "Viết chương trình Python mở tệp và xử lý ngoại lệ FileNotFoundError nếu \n",
    "tệp không tồn tại."
   ]
  },
  {
   "cell_type": "code",
   "execution_count": 2,
   "id": "39592489",
   "metadata": {},
   "outputs": [
    {
     "name": "stdout",
     "output_type": "stream",
     "text": [
      "Lỗi: Tệp path/to/your/file.txt không tồn tại.\n"
     ]
    }
   ],
   "source": [
    "def read_file(filename):\n",
    "    try:\n",
    "        with open(filename, 'r') as file:\n",
    "            content = file.read()\n",
    "            print(\"Nội dung của tệp\", filename, \"là:\\n\", content)\n",
    "    except FileNotFoundError:\n",
    "        print(\"Lỗi: Tệp\", filename, \"không tồn tại.\")\n",
    "\n",
    "# Thay đổi đường dẫn đến tệp tương ứng trên máy tính của bạn\n",
    "file_path = \"path/to/your/file.txt\"\n",
    "\n",
    "# Gọi hàm để đọc tệp\n",
    "read_file(file_path)\n"
   ]
  },
  {
   "cell_type": "markdown",
   "id": "dc6c2f6d",
   "metadata": {},
   "source": [
    "## Bài 4. \n",
    "Viết chương trình Python nhắc người dùng nhập hai số và đưa ra ngoại lệ\n",
    "TypeError nếu đầu vào không phải là số."
   ]
  },
  {
   "cell_type": "code",
   "execution_count": null,
   "id": "e2bb0829",
   "metadata": {},
   "outputs": [],
   "source": []
  },
  {
   "cell_type": "code",
   "execution_count": 1,
   "id": "b675d620",
   "metadata": {},
   "outputs": [
    {
     "name": "stdout",
     "output_type": "stream",
     "text": [
      "Nhập số thứ nhất: 1\n",
      "Nhập số thứ hai: 4\n",
      "Số thứ nhất bạn đã nhập là: 1.0\n",
      "Số thứ hai bạn đã nhập là: 4.0\n"
     ]
    }
   ],
   "source": [
    "def get_valid_numbers():\n",
    "    while True:\n",
    "        try:\n",
    "            num1 = float(input(\"Nhập số thứ nhất: \"))\n",
    "            num2 = float(input(\"Nhập số thứ hai: \"))\n",
    "            print(\"Số thứ nhất bạn đã nhập là:\", num1)\n",
    "            print(\"Số thứ hai bạn đã nhập là:\", num2)\n",
    "            break  # Thoát khỏi vòng lặp nếu nhập đúng\n",
    "        except ValueError:\n",
    "            print(\"Lỗi: Đầu vào không phải là số. Vui lòng nhập lại.\")\n",
    "\n",
    "# Gọi hàm để nhận hai số từ người dùng\n",
    "get_valid_numbers()\n"
   ]
  },
  {
   "cell_type": "markdown",
   "id": "24c77085",
   "metadata": {},
   "source": [
    "## Bài 5. \n",
    "Viết chương trình Python mở tệp và xử lý ngoại lệ PermissionError nếu có \n",
    "vấn đề về quyền.\n"
   ]
  },
  {
   "cell_type": "code",
   "execution_count": 3,
   "id": "f5c0c339",
   "metadata": {},
   "outputs": [
    {
     "name": "stdout",
     "output_type": "stream",
     "text": [
      "Lỗi: Tệp path/to/your/file.txt không tồn tại.\n"
     ]
    }
   ],
   "source": [
    "def read_file(filename):\n",
    "    try:\n",
    "        with open(filename, 'r') as file:\n",
    "            content = file.read()\n",
    "            print(\"Nội dung của tệp\", filename, \"là:\\n\", content)\n",
    "    except FileNotFoundError:\n",
    "        print(\"Lỗi: Tệp\", filename, \"không tồn tại.\")\n",
    "    except PermissionError:\n",
    "        print(\"Lỗi: Không có quyền truy cập vào tệp\", filename)\n",
    "\n",
    "# Thay đổi đường dẫn đến tệp tương ứng trên máy tính của bạn\n",
    "file_path = \"path/to/your/file.txt\"\n",
    "\n",
    "# Gọi hàm để đọc tệp\n",
    "read_file(file_path)\n"
   ]
  },
  {
   "cell_type": "markdown",
   "id": "d39d44bd",
   "metadata": {},
   "source": [
    "## Bài 6. \n",
    "Viết chương trình Python thực thi một thao tác trên danh sách và xử lý ngoại \n",
    "lệ IndexError nếu chỉ mục nằm ngoài phạm vi."
   ]
  },
  {
   "cell_type": "code",
   "execution_count": 4,
   "id": "3b1101f8",
   "metadata": {},
   "outputs": [
    {
     "name": "stdout",
     "output_type": "stream",
     "text": [
      "Lỗi: Chỉ mục nằm ngoài phạm vi của danh sách.\n"
     ]
    }
   ],
   "source": [
    "def perform_operation_on_list(my_list, index):\n",
    "    try:\n",
    "        value = my_list[index]\n",
    "        print(\"Giá trị tại chỉ mục\", index, \"trong danh sách là:\", value)\n",
    "    except IndexError:\n",
    "        print(\"Lỗi: Chỉ mục nằm ngoài phạm vi của danh sách.\")\n",
    "\n",
    "# Danh sách mẫu\n",
    "sample_list = [1, 2, 3, 4, 5]\n",
    "\n",
    "# Thực hiện thao tác trên danh sách\n",
    "index_to_access = 7  # Đổi chỉ mục này để thử nghiệm với các giá trị khác nhau\n",
    "perform_operation_on_list(sample_list, index_to_access)\n"
   ]
  },
  {
   "cell_type": "markdown",
   "id": "a98f0ba1",
   "metadata": {},
   "source": [
    "## Bài 7. \n",
    "Viết chương trình Python nhắc người dùng nhập một số và xử lý ngoại lệ\n",
    "KeyboardInterrupt nếu người dùng hủy dữ liệu nhập"
   ]
  },
  {
   "cell_type": "code",
   "execution_count": 5,
   "id": "87d5d28d",
   "metadata": {},
   "outputs": [
    {
     "name": "stdout",
     "output_type": "stream",
     "text": [
      "Nhập một số: 6\n",
      "Số bạn đã nhập là: 6.0\n"
     ]
    }
   ],
   "source": [
    "def get_valid_number():\n",
    "    try:\n",
    "        number = float(input(\"Nhập một số: \"))\n",
    "        print(\"Số bạn đã nhập là:\", number)\n",
    "    except KeyboardInterrupt:\n",
    "        print(\"\\nBạn đã hủy nhập liệu.\")\n",
    "    except ValueError:\n",
    "        print(\"Lỗi: Đầu vào không phải là một số.\")\n",
    "\n",
    "# Gọi hàm để nhận số từ người dùng\n",
    "get_valid_number()\n"
   ]
  },
  {
   "cell_type": "markdown",
   "id": "5d0a3f69",
   "metadata": {},
   "source": [
    "## Bài 8. \n",
    "Viết chương trình Python thực hiện phép chia và xử lý ngoại lệ\n",
    "ArithmeticError nếu có lỗi số học.\n"
   ]
  },
  {
   "cell_type": "code",
   "execution_count": null,
   "id": "a8fed51a",
   "metadata": {},
   "outputs": [],
   "source": [
    "def divide_numbers(a, b):\n",
    "    try:\n",
    "        result = a / b\n",
    "        print(\"Kết quả của phép chia là:\", result)\n",
    "    except ZeroDivisionError:\n",
    "        print(\"Lỗi: Không thể chia cho 0.\")\n",
    "    except ArithmeticError:\n",
    "        print(\"Lỗi: Lỗi số học khác xảy ra.\")\n",
    "    except Exception as e:\n",
    "        print(\"Lỗi không xác định:\", e)\n",
    "\n",
    "# Gọi hàm để thực hiện phép chia\n",
    "numerator = float(input(\"Nhập tử số: \"))\n",
    "denominator = float(input(\"Nhập mẫu số: \"))\n",
    "\n",
    "divide_numbers(numerator, denominator)\n"
   ]
  },
  {
   "cell_type": "markdown",
   "id": "cf074c23",
   "metadata": {},
   "source": [
    "## Bài 9. \n",
    "Viết chương trình Python mở tệp và xử lý ngoại lệ UnicodeDecodeError nếu \n",
    "có vấn đề về mã hóa."
   ]
  },
  {
   "cell_type": "code",
   "execution_count": 6,
   "id": "9f568576",
   "metadata": {},
   "outputs": [
    {
     "name": "stdout",
     "output_type": "stream",
     "text": [
      "Lỗi: Tệp path/to/your/file.txt không tồn tại.\n"
     ]
    }
   ],
   "source": [
    "def read_file(filename):\n",
    "    try:\n",
    "        with open(filename, 'r', encoding='utf-8') as file:\n",
    "            content = file.read()\n",
    "            print(\"Nội dung của tệp\", filename, \"là:\\n\", content)\n",
    "    except FileNotFoundError:\n",
    "        print(\"Lỗi: Tệp\", filename, \"không tồn tại.\")\n",
    "    except UnicodeDecodeError:\n",
    "        print(\"Lỗi: Không thể giải mã tệp\", filename, \"với mã hóa Unicode.\")\n",
    "    except Exception as e:\n",
    "        print(\"Lỗi không xác định:\", e)\n",
    "\n",
    "# Thay đổi đường dẫn đến tệp tương ứng trên máy tính của bạn\n",
    "file_path = \"path/to/your/file.txt\"\n",
    "\n",
    "# Gọi hàm để đọc tệp\n",
    "read_file(file_path)\n"
   ]
  },
  {
   "cell_type": "markdown",
   "id": "8d46b2ef",
   "metadata": {},
   "source": [
    "## Bài 10. \n",
    "Viết chương trình Python thực thi thao tác danh sách và xử lý ngoại lệ\n",
    "AttributionError nếu thuộc tính không tồn tại.\n"
   ]
  },
  {
   "cell_type": "code",
   "execution_count": 7,
   "id": "517f8e6a",
   "metadata": {},
   "outputs": [
    {
     "name": "stdout",
     "output_type": "stream",
     "text": [
      "Danh sách trước khi thêm một phần tử: [3, 1, 4, 2]\n",
      "Danh sách sau khi thêm một phần tử: [3, 1, 4, 2, 100]\n",
      "Danh sách trước khi sắp xếp: [3, 1, 4, 2, 100]\n",
      "Danh sách sau khi sắp xếp: [1, 2, 3, 4, 100]\n"
     ]
    }
   ],
   "source": [
    "def perform_list_operation(my_list):\n",
    "    try:\n",
    "        # Thực hiện một thao tác trên danh sách\n",
    "        print(\"Danh sách trước khi thêm một phần tử:\", my_list)\n",
    "        my_list.append(100)  # Thêm một phần tử vào danh sách\n",
    "        print(\"Danh sách sau khi thêm một phần tử:\", my_list)\n",
    "        \n",
    "        # Thực hiện một thao tác không tồn tại trên danh sách\n",
    "        print(\"Danh sách trước khi sắp xếp:\", my_list)\n",
    "        my_list.sort()  # Sắp xếp danh sách\n",
    "        print(\"Danh sách sau khi sắp xếp:\", my_list)\n",
    "    except AttributeError:\n",
    "        print(\"Lỗi: Thuộc tính không tồn tại trên danh sách.\")\n",
    "\n",
    "# Danh sách mẫu\n",
    "my_list = [3, 1, 4, 2]\n",
    "\n",
    "# Gọi hàm để thực thi thao tác trên danh sách\n",
    "perform_list_operation(my_list)\n"
   ]
  },
  {
   "cell_type": "markdown",
   "id": "fd1371d8",
   "metadata": {},
   "source": [
    "## Bài 11: \n",
    "Xây dựng một hàm Capitalize_last_name() với đối số là một chuỗi có tên \n",
    "(một từ đơn) và họ (một từ đơn) và trả về một chuỗi trong đó chỉ chữ cái đầu tiên \n",
    "của tên là chữ hoa, và tất cả các chữ cái của họ là chữ hoa; ví dụ: 'Nhung bui' trở\n",
    "thành 'Nhung BUI'. (gợi ý: sử dụng str.split() để tách str thành các từ riêng biệt)\n",
    "Nếu dữ liệu nhập vào không phải là đối tượng str được truyền làm đối số thì hàm sẽ\n",
    "đưa ra TypeError. (gợi ý: bạn có thể sử dụng isistance() để kiểm tra xem một đối \n",
    "tượng có thuộc một loại cụ thể hay không) Nếu str không bao gồm chính xác hai từ\n",
    "sẽ đưa ra ValueError."
   ]
  },
  {
   "cell_type": "code",
   "execution_count": 9,
   "id": "3d2c08d0",
   "metadata": {},
   "outputs": [
    {
     "name": "stdout",
     "output_type": "stream",
     "text": [
      "Nhung BUI\n",
      "John SMITH\n",
      "ValueError: Chuỗi phải chứa chính xác hai từ.\n"
     ]
    }
   ],
   "source": [
    "def Capitalize_last_name(first_name_last_name):\n",
    "    # Kiểm tra nếu đầu vào không phải là một chuỗi\n",
    "    if not isinstance(first_name_last_name, str):\n",
    "        raise TypeError(\"Đầu vào phải là một chuỗi.\")\n",
    "    \n",
    "    # Tách chuỗi thành tên và họ\n",
    "    name_parts = first_name_last_name.split()\n",
    "    \n",
    "    # Kiểm tra xem chuỗi có đúng hai từ không\n",
    "    if len(name_parts) != 2:\n",
    "        raise ValueError(\"Chuỗi phải chứa chính xác hai từ.\")\n",
    "    \n",
    "    # Chuyển đổi chữ cái đầu tiên của tên thành chữ hoa\n",
    "    first_name = name_parts[0].capitalize()\n",
    "    \n",
    "    # Chuyển đổi tất cả các chữ cái của họ thành chữ hoa\n",
    "    last_name = name_parts[1].upper()\n",
    "    \n",
    "    # Kết hợp tên và họ và trả về kết quả\n",
    "    return f\"{first_name} {last_name}\"\n",
    "\n",
    "# Thử nghiệm hàm với các trường hợp khác nhau\n",
    "try:\n",
    "    print(Capitalize_last_name(\"Nhung bui\"))  # Kết quả: Nhung BUI\n",
    "    print(Capitalize_last_name(\"john smith\"))  # Kết quả: John SMITH\n",
    "    print(Capitalize_last_name(\"Alice\"))  # Raise ValueError\n",
    "    print(Capitalize_last_name(123))  # Raise TypeError\n",
    "except ValueError as ve:\n",
    "    print(\"ValueError:\", ve)\n",
    "except TypeError as te:\n",
    "    print(\"TypeError:\", te)\n"
   ]
  },
  {
   "cell_type": "markdown",
   "id": "66f22295",
   "metadata": {},
   "source": [
    "## Bài 12. \n",
    "Hãy xây dựng một máy tính tương tác.\n",
    "Dữ liệu đầu vào của người dùng được giả định là một công thức bao gồm một số, \n",
    "một toán tử (ít nhất là + và -) và một số khác, được phân tách bằng khoảng trắng (ví \n",
    "dụ: 1 + 1). Phân tách đầu vào của người dùng bằng str.split() và kiểm tra xem danh \n",
    "sách kết quả có hợp lệ hay không:\n",
    "* ✓ Nếu đầu vào không bao gồm 3 phần tử, hãy đưa ra FormulaError, đây là Ngoại \n",
    "lệ tự xây dựng (Custom Exception).\n",
    "* ✓ Hãy thử chuyển đổi đầu vào thứ nhất và thứ ba thành float (như vậy: \n",
    "float_value = float(str_value)). Bắt bất kỳ ValueError nào xảy ra và thay vào \n",
    "đó đưa ra FormulaError\n",
    "* ✓ Nếu đầu vào thứ hai không phải là '+' hoặc '-', hãy đưa lại FormulaError\n",
    "\n",
    "Nếu dữ liệu nhập vào hợp lệ, thực hiện phép tính và in ra kết quả. Sau đó, người \n",
    "dùng sẽ được nhắc cung cấp thông tin đầu vào mới, v.v. cho đến khi người dùng \n",
    "thoát (nếu nhập vào quit).\n",
    "Một tương tác được minh họa như hình sau"
   ]
  },
  {
   "cell_type": "code",
   "execution_count": 1,
   "id": "d85b5f37",
   "metadata": {},
   "outputs": [
    {
     "name": "stdout",
     "output_type": "stream",
     "text": [
      "Enter a formula (e.g., 1 + 1), or 'quit' to exit: 5\n",
      "Error: Invalid formula: must have 3 elements\n",
      "Enter a formula (e.g., 1 + 1), or 'quit' to exit: 7\n",
      "Error: Invalid formula: must have 3 elements\n",
      "Enter a formula (e.g., 1 + 1), or 'quit' to exit: 0\n",
      "Error: Invalid formula: must have 3 elements\n",
      "Enter a formula (e.g., 1 + 1), or 'quit' to exit: 1\n",
      "Error: Invalid formula: must have 3 elements\n",
      "Enter a formula (e.g., 1 + 1), or 'quit' to exit: 1\n",
      "Error: Invalid formula: must have 3 elements\n",
      "Enter a formula (e.g., 1 + 1), or 'quit' to exit: 1+1\n",
      "Error: Invalid formula: must have 3 elements\n",
      "Enter a formula (e.g., 1 + 1), or 'quit' to exit: 1 + 1\n",
      "2.0\n",
      "Enter a formula (e.g., 1 + 1), or 'quit' to exit: 5+2\n",
      "Error: Invalid formula: must have 3 elements\n",
      "Enter a formula (e.g., 1 + 1), or 'quit' to exit: quit\n",
      "Exiting...\n"
     ]
    }
   ],
   "source": [
    "class FormulaError(Exception):\n",
    "    pass\n",
    "\n",
    "def calculate(expression):\n",
    "    try:\n",
    "        elements = expression.split()\n",
    "        if len(elements) != 3:\n",
    "            raise FormulaError(\"Invalid formula: must have 3 elements\")\n",
    "\n",
    "        num1 = float(elements[0])\n",
    "        num2 = float(elements[2])\n",
    "\n",
    "        operator = elements[1]\n",
    "        if operator not in ['+', '-']:\n",
    "            raise FormulaError(\"Invalid operator\")\n",
    "\n",
    "        if operator == '+':\n",
    "            result = num1 + num2\n",
    "        else:\n",
    "            result = num1 - num2\n",
    "\n",
    "        return result\n",
    "\n",
    "    except ValueError:\n",
    "        raise FormulaError(\"Invalid values in formula\")\n",
    "\n",
    "def interactive_calculator():\n",
    "    while True:\n",
    "        expression = input(\"Enter a formula (e.g., 1 + 1), or 'quit' to exit: \")\n",
    "        if expression.lower() == 'quit':\n",
    "            print(\"Exiting...\")\n",
    "            break\n",
    "\n",
    "        try:\n",
    "            result = calculate(expression)\n",
    "            print(result)\n",
    "        except FormulaError as e:\n",
    "            print(f\"Error: {e}\")\n",
    "\n",
    "if __name__ == \"__main__\":\n",
    "    interactive_calculator()\n"
   ]
  },
  {
   "cell_type": "code",
   "execution_count": null,
   "id": "2b81ec68",
   "metadata": {},
   "outputs": [],
   "source": []
  }
 ],
 "metadata": {
  "kernelspec": {
   "display_name": "Python 3 (ipykernel)",
   "language": "python",
   "name": "python3"
  },
  "language_info": {
   "codemirror_mode": {
    "name": "ipython",
    "version": 3
   },
   "file_extension": ".py",
   "mimetype": "text/x-python",
   "name": "python",
   "nbconvert_exporter": "python",
   "pygments_lexer": "ipython3",
   "version": "3.9.13"
  }
 },
 "nbformat": 4,
 "nbformat_minor": 5
}
