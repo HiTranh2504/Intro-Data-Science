{
 "cells": [
  {
   "cell_type": "markdown",
   "id": "57f36e59",
   "metadata": {},
   "source": [
    "## Bài 1\n"
   ]
  },
  {
   "cell_type": "code",
   "execution_count": 2,
   "id": "27a0226b",
   "metadata": {},
   "outputs": [
    {
     "name": "stdout",
     "output_type": "stream",
     "text": [
      "Nhap vao ban kinh hinh tron: 5\n",
      "Chu vi hinh tron la:  31.41592653589793\n",
      "Dien tich hinh tron la:  78.53981633974483\n"
     ]
    }
   ],
   "source": [
    "import math \n",
    "r = float(input(\"Nhap vao ban kinh hinh tron: \"))\n",
    "pi = math.pi\n",
    "C = pi*2*r\n",
    "S = r**2*pi\n",
    "print(\"Chu vi hinh tron la: \",C)\n",
    "print('Dien tich hinh tron la: ', S)"
   ]
  },
  {
   "cell_type": "markdown",
   "id": "f4c0fc36",
   "metadata": {},
   "source": [
    "## Bài 2"
   ]
  },
  {
   "cell_type": "code",
   "execution_count": 5,
   "id": "755b9123",
   "metadata": {},
   "outputs": [
    {
     "name": "stdout",
     "output_type": "stream",
     "text": [
      "Nhap chieu dai canh a: 2\n",
      "Nhap chieu dai canh b: 3\n",
      "Nhap chieu dai canh c: 4\n",
      "Chu vi tam giac la:  9.0\n",
      "Dien tich tam giac la:  2.9047375096555625\n"
     ]
    }
   ],
   "source": [
    "from math import sqrt\n",
    "a = float(input(\"Nhap chieu dai canh a: \"))\n",
    "b = float(input(\"Nhap chieu dai canh b: \"))\n",
    "c = float(input(\"Nhap chieu dai canh c: \"))\n",
    "C = a+b+c\n",
    "p = C/2\n",
    "S = sqrt(p*(p-a)*(p-b)*(p-c))\n",
    "print(\"Chu vi tam giac la: \",C)\n",
    "print('Dien tich tam giac la: ', S)"
   ]
  },
  {
   "cell_type": "markdown",
   "id": "b65f8203",
   "metadata": {},
   "source": [
    "## Bài 3\n"
   ]
  },
  {
   "cell_type": "code",
   "execution_count": 11,
   "id": "57997e4d",
   "metadata": {},
   "outputs": [
    {
     "name": "stdout",
     "output_type": "stream",
     "text": [
      "Nhap a: 25\n",
      "Nhap x: 5\n",
      "Ket qua:  0.5\n"
     ]
    }
   ],
   "source": [
    "import math\n",
    "a = float(input(\"Nhap a: \"))\n",
    "while(a <= 0):\n",
    "    a = float(input(\"Nhap a: \"))\n",
    "x = float(input(\"Nhap x: \"))\n",
    "while(x <= 0):\n",
    "    x = float(input(\"Nhap x: \"))\n",
    "p = math.log(x,a)\n",
    "#p = math.exp(x)/math.exp(a)\n",
    "print(\"Ket qua: \",p)"
   ]
  },
  {
   "cell_type": "markdown",
   "id": "3176ad02",
   "metadata": {},
   "source": [
    "## Bài 4"
   ]
  },
  {
   "cell_type": "code",
   "execution_count": 12,
   "id": "304bc629",
   "metadata": {},
   "outputs": [
    {
     "name": "stdout",
     "output_type": "stream",
     "text": [
      "Nhap x1: 12\n",
      "Nhap y1: 34\n",
      "Nhap x2: 56\n",
      "Nhap y2: 78\n",
      "a) Hệ số góc của đường thẳng đi qua hai điểm là:  1.0\n",
      "b) Khoảng cách giữa hai điểm là:  62.22539674441618\n"
     ]
    }
   ],
   "source": [
    "from math import sqrt\n",
    "x1 = float(input(\"Nhap x1: \"))\n",
    "y1 = float(input(\"Nhap y1: \"))\n",
    "x2 = float(input(\"Nhap x2: \"))\n",
    "y2 = float(input(\"Nhap y2: \"))\n",
    "m = (y2-y1)/(x2-x1)\n",
    "d = sqrt((y2-y1)**2 + (x2-x1)**2)\n",
    "print(\"a) Hệ số góc của đường thẳng đi qua hai điểm là: \",m)\n",
    "print(\"b) Khoảng cách giữa hai điểm là: \",d)\n"
   ]
  },
  {
   "cell_type": "markdown",
   "id": "532368b2",
   "metadata": {},
   "source": [
    "## Bài 5"
   ]
  },
  {
   "cell_type": "code",
   "execution_count": 17,
   "id": "9c566a83",
   "metadata": {},
   "outputs": [
    {
     "name": "stdout",
     "output_type": "stream",
     "text": [
      "Nhap vao ki tu: a\n",
      "%d a\n"
     ]
    }
   ],
   "source": [
    "x = str(input(\"Nhap vao ki tu: \"))\n",
    "print(\"%d\",x)"
   ]
  },
  {
   "cell_type": "markdown",
   "id": "dca62197",
   "metadata": {},
   "source": [
    "## Bài 6"
   ]
  },
  {
   "cell_type": "code",
   "execution_count": 18,
   "id": "5dc84b12",
   "metadata": {},
   "outputs": [
    {
     "name": "stdout",
     "output_type": "stream",
     "text": [
      "Nhap r1: 1\n",
      "Nhap r2: 2\n",
      "Nhap r3: 3\n",
      "Tổng trở là:  0.5454545454545455\n"
     ]
    }
   ],
   "source": [
    "r1 = float(input(\"Nhap r1: \"))\n",
    "r2 = float(input(\"Nhap r2: \"))\n",
    "r3 = float(input(\"Nhap r3: \"))\n",
    "R = 1/(1/r1 + 1/r2 + 1/r3)\n",
    "print(\"Tổng trở là: \", R)"
   ]
  },
  {
   "cell_type": "markdown",
   "id": "4774de15",
   "metadata": {},
   "source": [
    "## Bài 7"
   ]
  },
  {
   "cell_type": "code",
   "execution_count": 32,
   "id": "7f40ac24",
   "metadata": {},
   "outputs": [
    {
     "name": "stdout",
     "output_type": "stream",
     "text": [
      "Nhap diem toan: 5\n",
      "Nhap diem ly: 8\n",
      "Nhap diem hoa: 4\n",
      "Diem trung binh la  5.67\n"
     ]
    }
   ],
   "source": [
    "toan = float(input(\"Nhap diem toan: \"))\n",
    "ly = float(input(\"Nhap diem ly: \"))\n",
    "hoa = float(input(\"Nhap diem hoa: \"))\n",
    "dtb = (toan + ly + hoa)/3\n",
    "print(\"Diem trung binh la \", round(dtb, 2))"
   ]
  },
  {
   "cell_type": "markdown",
   "id": "56d2680c",
   "metadata": {},
   "source": [
    "## Bài 8"
   ]
  },
  {
   "cell_type": "code",
   "execution_count": 33,
   "id": "59ed5896",
   "metadata": {},
   "outputs": [
    {
     "name": "stdout",
     "output_type": "stream",
     "text": [
      "Nhap ngay: 20\n",
      "Nhap thang: 11\n",
      "Nhap nam voi 2 chu so: 99\n",
      "20 / 11 / 99\n"
     ]
    }
   ],
   "source": [
    "ngay = int(input(\"Nhap ngay: \"))\n",
    "while(ngay<1 or ngay >31):\n",
    "    ngay = int(input(\"Nhap ngay: \"))\n",
    "    \n",
    "thang = int(input(\"Nhap thang: \"))\n",
    "while(thang<1 or thang >12):\n",
    "    thang = int(input(\"Nhap thang: \"))\n",
    "    \n",
    "nam = int(input(\"Nhap nam voi 2 chu so: \"))\n",
    "while(nam<=0):\n",
    "    nam = int(input(\"Nhap nam: \"))\n",
    "    \n",
    "print(ngay,\"/\",thang,\"/\", nam)"
   ]
  },
  {
   "cell_type": "markdown",
   "id": "bcf2fd02",
   "metadata": {},
   "source": [
    "## Bài 9"
   ]
  },
  {
   "cell_type": "code",
   "execution_count": 42,
   "id": "da3205e6",
   "metadata": {},
   "outputs": [
    {
     "name": "stdout",
     "output_type": "stream",
     "text": [
      "Nhập số nguyên dương có 3 chữ số: 345\n",
      "Kết quả đảo ngược là:  543\n"
     ]
    }
   ],
   "source": [
    "a = int(input(\"Nhập số nguyên dương có 3 chữ số: \"))\n",
    "while(a < 100 and a>999):\n",
    "    a = int(input(\"Nhập số nguyên dương có 3 chữ số: \"))\n",
    "b = (a//100)\n",
    "d = (a%10)*100\n",
    "f = (((a - (a%10))//10)%10)*10\n",
    "\n",
    "print(\"Kết quả đảo ngược là: \",b+d+f)\n"
   ]
  },
  {
   "cell_type": "markdown",
   "id": "6f6d8e4c",
   "metadata": {},
   "source": [
    "## Bài 10"
   ]
  },
  {
   "cell_type": "code",
   "execution_count": 43,
   "id": "e4f672b4",
   "metadata": {},
   "outputs": [
    {
     "name": "stdout",
     "output_type": "stream",
     "text": [
      "Nhập a: 5\n",
      "Nhập b: 8\n",
      "Nhập c: 3\n",
      "Số lơn nhất là:  8.0\n"
     ]
    }
   ],
   "source": [
    "a = float(input(\"Nhập a: \"))\n",
    "b = float(input(\"Nhập b: \"))\n",
    "c = float(input(\"Nhập c: \"))\n",
    "\n",
    "if a >= b >= c:\n",
    "    print(\"Số lơn nhất là: \", a)\n",
    "elif b >= a >= c:\n",
    "    print(\"Số lơn nhất là: \", b)\n",
    "else:\n",
    "    print(\"Số lơn nhất là: \", c)"
   ]
  },
  {
   "cell_type": "markdown",
   "id": "956be5a0",
   "metadata": {},
   "source": [
    "## Bài 11"
   ]
  },
  {
   "cell_type": "code",
   "execution_count": 45,
   "id": "463609ab",
   "metadata": {},
   "outputs": [
    {
     "name": "stdout",
     "output_type": "stream",
     "text": [
      "Nhap chieu dai canh a: 1\n",
      "Nhap chieu dai canh b: 2\n",
      "Nhap chieu dai canh c: 3\n",
      "3 cạnh không tạo ra tam giác\n"
     ]
    }
   ],
   "source": [
    "from math import sqrt\n",
    "a = float(input(\"Nhap chieu dai canh a: \"))\n",
    "b = float(input(\"Nhap chieu dai canh b: \"))\n",
    "c = float(input(\"Nhap chieu dai canh c: \"))\n",
    "if a+b > c and a+c >b and c+b > a:\n",
    "    C = a+b+c\n",
    "    p = C/2\n",
    "    S = sqrt(p*(p-a)*(p-b)*(p-c))\n",
    "    print(\"3 cạnh tạo ra một tam giác\")\n",
    "    print(\"Chu vi tam giac la: \",C)\n",
    "    print('Dien tich tam giac la: ', S)\n",
    "else:\n",
    "    print(\"3 cạnh không tạo ra tam giác\")"
   ]
  },
  {
   "cell_type": "markdown",
   "id": "24bca861",
   "metadata": {},
   "source": [
    "## Bài 12"
   ]
  },
  {
   "cell_type": "code",
   "execution_count": 49,
   "id": "48ba492e",
   "metadata": {},
   "outputs": [
    {
     "name": "stdout",
     "output_type": "stream",
     "text": [
      "Nhap a: 5\n",
      "Nhap b: 6\n",
      "Phương trình có nghiệm là: x=  -1.2\n"
     ]
    }
   ],
   "source": [
    "a = float(input(\"Nhap a: \"))\n",
    "b = float(input(\"Nhap b: \"))\n",
    "\n",
    "if a==0:\n",
    "    print(\"Phương trình vô nghiệm\")\n",
    "elif b==0:\n",
    "    print(\"Phương trình có nghiệm là: x= 0\")\n",
    "else:\n",
    "    print(\"Phương trình có nghiệm là: x= \", -b/a)"
   ]
  },
  {
   "cell_type": "markdown",
   "id": "ce92a7f6",
   "metadata": {},
   "source": [
    "## Bài 13\n"
   ]
  },
  {
   "cell_type": "code",
   "execution_count": 4,
   "id": "742408c3",
   "metadata": {},
   "outputs": [
    {
     "name": "stdout",
     "output_type": "stream",
     "text": [
      "Nhap a: 3\n",
      "Nhap b: 5\n",
      "Nhap vao ki tu: 8\n",
      "Nhap vao ki tu: *\n",
      "Kết quả:  15.0\n"
     ]
    }
   ],
   "source": [
    "a = float(input(\"Nhap a: \"))\n",
    "b = float(input(\"Nhap b: \"))\n",
    "ch = str(input(\"Nhap vao ki tu: \"))\n",
    "while ch != \"+\" and ch != \"-\" and ch != \"*\" and ch != \"/\":\n",
    "    ch = str(input(\"Nhap vao ki tu: \"))\n",
    "if(ch == \"+\"):\n",
    "    print(\"Kết quả: \",a+b)\n",
    "elif(ch == \"-\"):\n",
    "    print(\"Kết quả: \",a-b)\n",
    "elif(ch == \"*\"):\n",
    "    print(\"Kết quả: \",a*b)\n",
    "else:\n",
    "    print(\"Kết quả: \",a/b)"
   ]
  },
  {
   "cell_type": "markdown",
   "id": "d19853ed",
   "metadata": {},
   "source": [
    "## Bài 14"
   ]
  },
  {
   "cell_type": "code",
   "execution_count": 1,
   "id": "f4306b48",
   "metadata": {},
   "outputs": [
    {
     "name": "stdout",
     "output_type": "stream",
     "text": [
      "Nhap thang: 0\n",
      "Nhap thang: 22\n",
      "Nhap thang: 12\n",
      "Nhap nam : 2023\n",
      "Tháng:  12  có: 31 ngày\n"
     ]
    }
   ],
   "source": [
    "thang = int(input(\"Nhap thang: \"))\n",
    "while(thang<1 or thang >12):\n",
    "    thang = int(input(\"Nhap thang: \"))\n",
    "    \n",
    "nam = int(input(\"Nhap nam : \"))\n",
    "while(nam<=0):\n",
    "    nam = int(input(\"Nhap nam: \"))\n",
    "    \n",
    "if(thang == 1 or thang == 3 or thang == 5 or thang == 7 or thang == 8 or thang == 10 or thang == 12):\n",
    "    print(\"Tháng: \",thang, \" có: 31 ngày\")\n",
    "elif(thang == 4 or thang == 6 or thang == 9 or thang == 11):\n",
    "    print(\"Tháng: \",thang, \" có: 30 ngày\")\n",
    "else:\n",
    "    if ((nam % 4 == 0) and (nam % 100!= 0)) or (nam%400 == 0):\n",
    "        print(\"Tháng: \",thang, \" có: 29 ngày\")\n",
    "    else:\n",
    "        print(\"Tháng: \",thang, \" có: 28 ngày\")"
   ]
  },
  {
   "cell_type": "markdown",
   "id": "8ad07fe1",
   "metadata": {},
   "source": [
    "## Bài 15\n"
   ]
  },
  {
   "cell_type": "code",
   "execution_count": 5,
   "id": "64ae989f",
   "metadata": {},
   "outputs": [
    {
     "name": "stdout",
     "output_type": "stream",
     "text": [
      "Nhập số tiền gửi: 1000000\n",
      "Nhập số tháng gửi tiền: 12\n",
      "Nhập kỳ hạn gửi tiền: 3\n",
      "Tổng tiền gốc và lãi là:  1573519.36\n"
     ]
    }
   ],
   "source": [
    "tien = float(input(\"Nhập số tiền gửi: \"))\n",
    "thang = int(input(\"Nhập số tháng gửi tiền: \"))\n",
    "kyhan = int(input(\"Nhập kỳ hạn gửi tiền: \"))\n",
    "if kyhan == 0:\n",
    "    for i in range(thang):\n",
    "        tien += tien * 0.024\n",
    "    print(\"Tổng tiền gốc và lãi là: \", tien)\n",
    "else:\n",
    "    so_ky_han_tinh_lai = thang // kyhan\n",
    "    for i in range(so_ky_han_tinh_lai):\n",
    "        tien += tien * 0.04 * kyhan\n",
    "    print(\"Tổng tiền gốc và lãi là: \", tien)\n",
    "    \n",
    "    "
   ]
  },
  {
   "cell_type": "code",
   "execution_count": null,
   "id": "af1f5243",
   "metadata": {},
   "outputs": [],
   "source": []
  },
  {
   "cell_type": "code",
   "execution_count": null,
   "id": "11502b28",
   "metadata": {},
   "outputs": [],
   "source": [
    "cách tìm ước chung lớn nhất giữa 2 số trong python"
   ]
  }
 ],
 "metadata": {
  "kernelspec": {
   "display_name": "Python 3 (ipykernel)",
   "language": "python",
   "name": "python3"
  },
  "language_info": {
   "codemirror_mode": {
    "name": "ipython",
    "version": 3
   },
   "file_extension": ".py",
   "mimetype": "text/x-python",
   "name": "python",
   "nbconvert_exporter": "python",
   "pygments_lexer": "ipython3",
   "version": "3.9.13"
  }
 },
 "nbformat": 4,
 "nbformat_minor": 5
}
